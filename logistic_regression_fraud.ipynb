{
  "nbformat": 4,
  "nbformat_minor": 0,
  "metadata": {
    "colab": {
      "name": "Untitled0.ipynb",
      "provenance": [],
      "collapsed_sections": [],
      "authorship_tag": "ABX9TyNuT20GvZCRMveqUfMBsr5B",
      "include_colab_link": true
    },
    "kernelspec": {
      "name": "python3",
      "display_name": "Python 3"
    }
  },
  "cells": [
    {
      "cell_type": "markdown",
      "metadata": {
        "id": "view-in-github",
        "colab_type": "text"
      },
      "source": [
        "<a href=\"https://colab.research.google.com/github/michdcode/API_FUN/blob/master/logistic_regression_fraud.ipynb\" target=\"_parent\"><img src=\"https://colab.research.google.com/assets/colab-badge.svg\" alt=\"Open In Colab\"/></a>"
      ]
    },
    {
      "cell_type": "code",
      "metadata": {
        "id": "hyk_3DZ97gj3",
        "colab_type": "code",
        "colab": {}
      },
      "source": [
        "import pandas as pd\n",
        "from sklearn.model_selection import train_test_split\n",
        "from sklearn.linear_model import LogisticRegression\n",
        "from sklearn.metrics import accuracy_score, confusion_matrix"
      ],
      "execution_count": 0,
      "outputs": []
    },
    {
      "cell_type": "code",
      "metadata": {
        "id": "APDWxdCT8NJb",
        "colab_type": "code",
        "colab": {}
      },
      "source": [
        "df = pd.read_csv('payment_fraud.csv')"
      ],
      "execution_count": 0,
      "outputs": []
    },
    {
      "cell_type": "markdown",
      "metadata": {
        "id": "H-ap5s4P8gL7",
        "colab_type": "text"
      },
      "source": [
        ""
      ]
    },
    {
      "cell_type": "code",
      "metadata": {
        "id": "s-13frQW8g4D",
        "colab_type": "code",
        "colab": {
          "base_uri": "https://localhost:8080/",
          "height": 979
        },
        "outputId": "5f7ac44d-b38f-4114-fb09-37872833bbd6"
      },
      "source": [
        "df.sample(30)"
      ],
      "execution_count": 5,
      "outputs": [
        {
          "output_type": "execute_result",
          "data": {
            "text/html": [
              "<div>\n",
              "<style scoped>\n",
              "    .dataframe tbody tr th:only-of-type {\n",
              "        vertical-align: middle;\n",
              "    }\n",
              "\n",
              "    .dataframe tbody tr th {\n",
              "        vertical-align: top;\n",
              "    }\n",
              "\n",
              "    .dataframe thead th {\n",
              "        text-align: right;\n",
              "    }\n",
              "</style>\n",
              "<table border=\"1\" class=\"dataframe\">\n",
              "  <thead>\n",
              "    <tr style=\"text-align: right;\">\n",
              "      <th></th>\n",
              "      <th>accountAgeDays</th>\n",
              "      <th>numItems</th>\n",
              "      <th>localTime</th>\n",
              "      <th>paymentMethod</th>\n",
              "      <th>paymentMethodAgeDays</th>\n",
              "      <th>label</th>\n",
              "    </tr>\n",
              "  </thead>\n",
              "  <tbody>\n",
              "    <tr>\n",
              "      <th>29869</th>\n",
              "      <td>10</td>\n",
              "      <td>1</td>\n",
              "      <td>4.742303</td>\n",
              "      <td>creditcard</td>\n",
              "      <td>9.658333</td>\n",
              "      <td>0</td>\n",
              "    </tr>\n",
              "    <tr>\n",
              "      <th>17636</th>\n",
              "      <td>2000</td>\n",
              "      <td>1</td>\n",
              "      <td>4.461622</td>\n",
              "      <td>paypal</td>\n",
              "      <td>0.000000</td>\n",
              "      <td>0</td>\n",
              "    </tr>\n",
              "    <tr>\n",
              "      <th>17049</th>\n",
              "      <td>134</td>\n",
              "      <td>1</td>\n",
              "      <td>5.017904</td>\n",
              "      <td>storecredit</td>\n",
              "      <td>122.704167</td>\n",
              "      <td>0</td>\n",
              "    </tr>\n",
              "    <tr>\n",
              "      <th>5838</th>\n",
              "      <td>1980</td>\n",
              "      <td>1</td>\n",
              "      <td>2.948940</td>\n",
              "      <td>paypal</td>\n",
              "      <td>272.500000</td>\n",
              "      <td>0</td>\n",
              "    </tr>\n",
              "    <tr>\n",
              "      <th>22457</th>\n",
              "      <td>26</td>\n",
              "      <td>1</td>\n",
              "      <td>4.886641</td>\n",
              "      <td>creditcard</td>\n",
              "      <td>0.000694</td>\n",
              "      <td>0</td>\n",
              "    </tr>\n",
              "    <tr>\n",
              "      <th>31601</th>\n",
              "      <td>2000</td>\n",
              "      <td>1</td>\n",
              "      <td>5.040929</td>\n",
              "      <td>paypal</td>\n",
              "      <td>0.009028</td>\n",
              "      <td>0</td>\n",
              "    </tr>\n",
              "    <tr>\n",
              "      <th>27256</th>\n",
              "      <td>2000</td>\n",
              "      <td>1</td>\n",
              "      <td>4.886641</td>\n",
              "      <td>creditcard</td>\n",
              "      <td>0.000000</td>\n",
              "      <td>0</td>\n",
              "    </tr>\n",
              "    <tr>\n",
              "      <th>33862</th>\n",
              "      <td>230</td>\n",
              "      <td>1</td>\n",
              "      <td>4.748314</td>\n",
              "      <td>paypal</td>\n",
              "      <td>0.000000</td>\n",
              "      <td>0</td>\n",
              "    </tr>\n",
              "    <tr>\n",
              "      <th>38120</th>\n",
              "      <td>2000</td>\n",
              "      <td>1</td>\n",
              "      <td>5.040929</td>\n",
              "      <td>creditcard</td>\n",
              "      <td>4.428472</td>\n",
              "      <td>0</td>\n",
              "    </tr>\n",
              "    <tr>\n",
              "      <th>37254</th>\n",
              "      <td>91</td>\n",
              "      <td>1</td>\n",
              "      <td>4.962055</td>\n",
              "      <td>creditcard</td>\n",
              "      <td>90.143750</td>\n",
              "      <td>0</td>\n",
              "    </tr>\n",
              "    <tr>\n",
              "      <th>24777</th>\n",
              "      <td>244</td>\n",
              "      <td>1</td>\n",
              "      <td>5.017904</td>\n",
              "      <td>paypal</td>\n",
              "      <td>0.000000</td>\n",
              "      <td>0</td>\n",
              "    </tr>\n",
              "    <tr>\n",
              "      <th>13466</th>\n",
              "      <td>2000</td>\n",
              "      <td>1</td>\n",
              "      <td>5.034622</td>\n",
              "      <td>creditcard</td>\n",
              "      <td>143.885417</td>\n",
              "      <td>0</td>\n",
              "    </tr>\n",
              "    <tr>\n",
              "      <th>840</th>\n",
              "      <td>1</td>\n",
              "      <td>1</td>\n",
              "      <td>4.921318</td>\n",
              "      <td>creditcard</td>\n",
              "      <td>0.000694</td>\n",
              "      <td>1</td>\n",
              "    </tr>\n",
              "    <tr>\n",
              "      <th>3670</th>\n",
              "      <td>14</td>\n",
              "      <td>1</td>\n",
              "      <td>4.742303</td>\n",
              "      <td>creditcard</td>\n",
              "      <td>0.000000</td>\n",
              "      <td>0</td>\n",
              "    </tr>\n",
              "    <tr>\n",
              "      <th>7994</th>\n",
              "      <td>2000</td>\n",
              "      <td>1</td>\n",
              "      <td>4.524580</td>\n",
              "      <td>creditcard</td>\n",
              "      <td>0.000694</td>\n",
              "      <td>0</td>\n",
              "    </tr>\n",
              "    <tr>\n",
              "      <th>26122</th>\n",
              "      <td>103</td>\n",
              "      <td>1</td>\n",
              "      <td>4.965339</td>\n",
              "      <td>creditcard</td>\n",
              "      <td>0.000000</td>\n",
              "      <td>0</td>\n",
              "    </tr>\n",
              "    <tr>\n",
              "      <th>35725</th>\n",
              "      <td>120</td>\n",
              "      <td>1</td>\n",
              "      <td>4.745402</td>\n",
              "      <td>creditcard</td>\n",
              "      <td>0.030556</td>\n",
              "      <td>0</td>\n",
              "    </tr>\n",
              "    <tr>\n",
              "      <th>31388</th>\n",
              "      <td>2000</td>\n",
              "      <td>1</td>\n",
              "      <td>4.745402</td>\n",
              "      <td>creditcard</td>\n",
              "      <td>0.000000</td>\n",
              "      <td>0</td>\n",
              "    </tr>\n",
              "    <tr>\n",
              "      <th>9506</th>\n",
              "      <td>544</td>\n",
              "      <td>1</td>\n",
              "      <td>4.748314</td>\n",
              "      <td>creditcard</td>\n",
              "      <td>542.939583</td>\n",
              "      <td>0</td>\n",
              "    </tr>\n",
              "    <tr>\n",
              "      <th>13525</th>\n",
              "      <td>2000</td>\n",
              "      <td>1</td>\n",
              "      <td>4.836982</td>\n",
              "      <td>creditcard</td>\n",
              "      <td>756.100694</td>\n",
              "      <td>0</td>\n",
              "    </tr>\n",
              "    <tr>\n",
              "      <th>7840</th>\n",
              "      <td>22</td>\n",
              "      <td>1</td>\n",
              "      <td>4.748314</td>\n",
              "      <td>paypal</td>\n",
              "      <td>0.000694</td>\n",
              "      <td>0</td>\n",
              "    </tr>\n",
              "    <tr>\n",
              "      <th>32435</th>\n",
              "      <td>16</td>\n",
              "      <td>1</td>\n",
              "      <td>5.040929</td>\n",
              "      <td>storecredit</td>\n",
              "      <td>0.000000</td>\n",
              "      <td>0</td>\n",
              "    </tr>\n",
              "    <tr>\n",
              "      <th>23770</th>\n",
              "      <td>73</td>\n",
              "      <td>1</td>\n",
              "      <td>4.524580</td>\n",
              "      <td>creditcard</td>\n",
              "      <td>72.896528</td>\n",
              "      <td>0</td>\n",
              "    </tr>\n",
              "    <tr>\n",
              "      <th>23529</th>\n",
              "      <td>1696</td>\n",
              "      <td>1</td>\n",
              "      <td>4.748314</td>\n",
              "      <td>creditcard</td>\n",
              "      <td>0.000000</td>\n",
              "      <td>0</td>\n",
              "    </tr>\n",
              "    <tr>\n",
              "      <th>23862</th>\n",
              "      <td>35</td>\n",
              "      <td>1</td>\n",
              "      <td>4.748314</td>\n",
              "      <td>storecredit</td>\n",
              "      <td>28.054167</td>\n",
              "      <td>0</td>\n",
              "    </tr>\n",
              "    <tr>\n",
              "      <th>25208</th>\n",
              "      <td>544</td>\n",
              "      <td>1</td>\n",
              "      <td>5.034622</td>\n",
              "      <td>creditcard</td>\n",
              "      <td>0.002083</td>\n",
              "      <td>0</td>\n",
              "    </tr>\n",
              "    <tr>\n",
              "      <th>16696</th>\n",
              "      <td>1452</td>\n",
              "      <td>1</td>\n",
              "      <td>4.836982</td>\n",
              "      <td>paypal</td>\n",
              "      <td>78.879167</td>\n",
              "      <td>0</td>\n",
              "    </tr>\n",
              "    <tr>\n",
              "      <th>24217</th>\n",
              "      <td>156</td>\n",
              "      <td>1</td>\n",
              "      <td>4.524580</td>\n",
              "      <td>creditcard</td>\n",
              "      <td>155.917361</td>\n",
              "      <td>0</td>\n",
              "    </tr>\n",
              "    <tr>\n",
              "      <th>11998</th>\n",
              "      <td>521</td>\n",
              "      <td>1</td>\n",
              "      <td>5.040929</td>\n",
              "      <td>creditcard</td>\n",
              "      <td>0.007639</td>\n",
              "      <td>0</td>\n",
              "    </tr>\n",
              "    <tr>\n",
              "      <th>32006</th>\n",
              "      <td>3</td>\n",
              "      <td>1</td>\n",
              "      <td>4.965339</td>\n",
              "      <td>paypal</td>\n",
              "      <td>0.000000</td>\n",
              "      <td>0</td>\n",
              "    </tr>\n",
              "  </tbody>\n",
              "</table>\n",
              "</div>"
            ],
            "text/plain": [
              "       accountAgeDays  numItems  ...  paymentMethodAgeDays label\n",
              "29869              10         1  ...              9.658333     0\n",
              "17636            2000         1  ...              0.000000     0\n",
              "17049             134         1  ...            122.704167     0\n",
              "5838             1980         1  ...            272.500000     0\n",
              "22457              26         1  ...              0.000694     0\n",
              "31601            2000         1  ...              0.009028     0\n",
              "27256            2000         1  ...              0.000000     0\n",
              "33862             230         1  ...              0.000000     0\n",
              "38120            2000         1  ...              4.428472     0\n",
              "37254              91         1  ...             90.143750     0\n",
              "24777             244         1  ...              0.000000     0\n",
              "13466            2000         1  ...            143.885417     0\n",
              "840                 1         1  ...              0.000694     1\n",
              "3670               14         1  ...              0.000000     0\n",
              "7994             2000         1  ...              0.000694     0\n",
              "26122             103         1  ...              0.000000     0\n",
              "35725             120         1  ...              0.030556     0\n",
              "31388            2000         1  ...              0.000000     0\n",
              "9506              544         1  ...            542.939583     0\n",
              "13525            2000         1  ...            756.100694     0\n",
              "7840               22         1  ...              0.000694     0\n",
              "32435              16         1  ...              0.000000     0\n",
              "23770              73         1  ...             72.896528     0\n",
              "23529            1696         1  ...              0.000000     0\n",
              "23862              35         1  ...             28.054167     0\n",
              "25208             544         1  ...              0.002083     0\n",
              "16696            1452         1  ...             78.879167     0\n",
              "24217             156         1  ...            155.917361     0\n",
              "11998             521         1  ...              0.007639     0\n",
              "32006               3         1  ...              0.000000     0\n",
              "\n",
              "[30 rows x 6 columns]"
            ]
          },
          "metadata": {
            "tags": []
          },
          "execution_count": 5
        }
      ]
    },
    {
      "cell_type": "code",
      "metadata": {
        "id": "Nbh8Xf8-8v_i",
        "colab_type": "code",
        "colab": {}
      },
      "source": [
        "# this will convert the payment method into numbers\n",
        "df = pd.get_dummies(df, columns=['paymentMethod'])"
      ],
      "execution_count": 0,
      "outputs": []
    },
    {
      "cell_type": "code",
      "metadata": {
        "id": "3WnCZ3UH88-x",
        "colab_type": "code",
        "colab": {}
      },
      "source": [
        "X_train, X_test, y_train, y_test = train_test_split(\n",
        "    df.drop('label', axis=1), df['label'],\n",
        "    test_size=0.33, random_state=17)"
      ],
      "execution_count": 0,
      "outputs": []
    },
    {
      "cell_type": "code",
      "metadata": {
        "id": "KTakbFsD9ApX",
        "colab_type": "code",
        "colab": {}
      },
      "source": [
        "clf = LogisticRegression().fit(X_train, y_train)"
      ],
      "execution_count": 0,
      "outputs": []
    },
    {
      "cell_type": "code",
      "metadata": {
        "id": "bogycU2v9Jf1",
        "colab_type": "code",
        "colab": {}
      },
      "source": [
        "y_pred = clf.predict(X_test)"
      ],
      "execution_count": 0,
      "outputs": []
    },
    {
      "cell_type": "code",
      "metadata": {
        "id": "miBWW20d9NXO",
        "colab_type": "code",
        "colab": {
          "base_uri": "https://localhost:8080/",
          "height": 34
        },
        "outputId": "63bf201c-32c8-4f28-c68d-47be3be056f1"
      },
      "source": [
        "print(accuracy_score(y_pred, y_test))\n",
        "# print(confusion_matrix(y_test, y_pred))"
      ],
      "execution_count": 12,
      "outputs": [
        {
          "output_type": "stream",
          "text": [
            "1.0\n"
          ],
          "name": "stdout"
        }
      ]
    },
    {
      "cell_type": "code",
      "metadata": {
        "id": "8bmSCehH9dsW",
        "colab_type": "code",
        "colab": {
          "base_uri": "https://localhost:8080/",
          "height": 51
        },
        "outputId": "f3d4473f-11ac-4d4d-b54c-f39a93b6acef"
      },
      "source": [
        "print(confusion_matrix(y_test, y_pred))"
      ],
      "execution_count": 13,
      "outputs": [
        {
          "output_type": "stream",
          "text": [
            "[[12753     0]\n",
            " [    0   190]]\n"
          ],
          "name": "stdout"
        }
      ]
    }
  ]
}